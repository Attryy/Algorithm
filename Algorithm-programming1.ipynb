{
 "cells": [
  {
   "cell_type": "code",
   "execution_count": 330,
   "metadata": {
    "collapsed": true
   },
   "outputs": [],
   "source": [
    "# Python implementation of the Karatsuba algorithm for integer multiplication\n",
    "\n",
    "x = 3141592653589793238462643383279502884197169399375105820974944592\n",
    "y = 2718281828459045235360287471352662497757247093699959574966967627\n"
   ]
  },
  {
   "cell_type": "code",
   "execution_count": 331,
   "metadata": {
    "collapsed": false
   },
   "outputs": [],
   "source": [
    "import math\n",
    "import time"
   ]
  },
  {
   "cell_type": "code",
   "execution_count": 332,
   "metadata": {
    "collapsed": false
   },
   "outputs": [],
   "source": [
    "def equal(num, n):\n",
    "    n0 = len(str(num));\n",
    "    num = '0'*(n-n0)+str(num)\n",
    "    return num"
   ]
  },
  {
   "cell_type": "code",
   "execution_count": 333,
   "metadata": {
    "collapsed": false
   },
   "outputs": [],
   "source": [
    "def mul(x,y):\n",
    "    if x<10 and y<10:\n",
    "        return int(x*y)\n",
    "    else:\n",
    "        if x>y:\n",
    "            n = len(str(x))\n",
    "        else:\n",
    "            n = len(str(y))\n",
    "        if(n%2 != 0):\n",
    "             n = n+1\n",
    "        x = equal(x, n) # tranform the numbers into string with the same length by left padding zeros\n",
    "        y = equal(y, n)     \n",
    "        a=int(x[:int(n/2)])\n",
    "        b= int(x[int(n/2):])\n",
    "        c=int(y[:int(n/2)])\n",
    "        d= int(y[int(n/2):])\n",
    "        r1= mul(a,c)\n",
    "        r2= mul(b,d)\n",
    "        r3= mul(a+b, c+d)\n",
    "        product=(10**n)*r1+10**int(n/2)*(r3-r1-r2)+r2 #use int() to get the precision\n",
    "        return int(product)\n",
    "    "
   ]
  },
  {
   "cell_type": "code",
   "execution_count": 334,
   "metadata": {
    "collapsed": false
   },
   "outputs": [
    {
     "data": {
      "text/plain": [
       "701409112930454300559557635"
      ]
     },
     "execution_count": 334,
     "metadata": {},
     "output_type": "execute_result"
    }
   ],
   "source": [
    "mul(1234898898899,567989098990865)"
   ]
  },
  {
   "cell_type": "code",
   "execution_count": 328,
   "metadata": {
    "collapsed": false
   },
   "outputs": [
    {
     "data": {
      "text/plain": [
       "701409112930454300559557635"
      ]
     },
     "execution_count": 328,
     "metadata": {},
     "output_type": "execute_result"
    }
   ],
   "source": [
    "1234898898899*567989098990865"
   ]
  }
 ],
 "metadata": {
  "kernelspec": {
   "display_name": "Python 3",
   "language": "python",
   "name": "python3"
  },
  "language_info": {
   "codemirror_mode": {
    "name": "ipython",
    "version": 3
   },
   "file_extension": ".py",
   "mimetype": "text/x-python",
   "name": "python",
   "nbconvert_exporter": "python",
   "pygments_lexer": "ipython3",
   "version": "3.6.0"
  }
 },
 "nbformat": 4,
 "nbformat_minor": 2
}
